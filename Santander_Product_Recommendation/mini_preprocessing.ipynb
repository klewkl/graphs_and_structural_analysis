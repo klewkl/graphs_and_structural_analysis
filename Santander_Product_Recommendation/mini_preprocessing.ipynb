{
 "cells": [
  {
   "cell_type": "code",
<<<<<<< HEAD
   "execution_count": 1,
=======
   "execution_count": 25,
>>>>>>> d380578008c9fbaa6da175a9186677c464923a56
   "metadata": {},
   "outputs": [
    {
     "name": "stdout",
     "output_type": "stream",
     "text": [
      "Defaulting to user installation because normal site-packages is not writeable\n",
      "Requirement already satisfied: pandas in /home/owner/.local/lib/python3.10/site-packages (2.2.1)\n",
<<<<<<< HEAD
      "Requirement already satisfied: python-dateutil>=2.8.2 in /home/owner/.local/lib/python3.10/site-packages (from pandas) (2.8.2)\n",
      "Requirement already satisfied: pytz>=2020.1 in /usr/lib/python3/dist-packages (from pandas) (2022.1)\n",
      "Requirement already satisfied: numpy<2,>=1.22.4 in /home/owner/.local/lib/python3.10/site-packages (from pandas) (1.26.2)\n",
      "Requirement already satisfied: tzdata>=2022.7 in /home/owner/.local/lib/python3.10/site-packages (from pandas) (2023.3)\n",
=======
      "Requirement already satisfied: pytz>=2020.1 in /usr/lib/python3/dist-packages (from pandas) (2022.1)\n",
      "Requirement already satisfied: python-dateutil>=2.8.2 in /home/owner/.local/lib/python3.10/site-packages (from pandas) (2.8.2)\n",
      "Requirement already satisfied: tzdata>=2022.7 in /home/owner/.local/lib/python3.10/site-packages (from pandas) (2024.1)\n",
      "Requirement already satisfied: numpy<2,>=1.22.4 in /home/owner/.local/lib/python3.10/site-packages (from pandas) (1.26.4)\n",
>>>>>>> d380578008c9fbaa6da175a9186677c464923a56
      "Requirement already satisfied: six>=1.5 in /usr/lib/python3/dist-packages (from python-dateutil>=2.8.2->pandas) (1.16.0)\n",
      "Note: you may need to restart the kernel to use updated packages.\n"
     ]
    }
   ],
   "source": [
    "%pip install pandas"
   ]
  },
  {
   "cell_type": "code",
<<<<<<< HEAD
   "execution_count": 2,
=======
   "execution_count": 26,
>>>>>>> d380578008c9fbaa6da175a9186677c464923a56
   "metadata": {},
   "outputs": [],
   "source": [
    "import pandas as pd"
   ]
  },
  {
   "cell_type": "code",
<<<<<<< HEAD
   "execution_count": 3,
=======
   "execution_count": 27,
>>>>>>> d380578008c9fbaa6da175a9186677c464923a56
   "metadata": {},
   "outputs": [
    {
     "name": "stdout",
     "output_type": "stream",
     "text": [
<<<<<<< HEAD
      "Defaulting to user installation because normal site-packages is not writeable\n",
      "Requirement already satisfied: dask in /home/owner/.local/lib/python3.10/site-packages (2024.3.0)\n",
      "Requirement already satisfied: dask-expr in /home/owner/.local/lib/python3.10/site-packages (1.0.1)\n",
      "Requirement already satisfied: importlib-metadata>=4.13.0 in /home/owner/.local/lib/python3.10/site-packages (from dask) (7.0.2)\n",
      "Requirement already satisfied: partd>=1.2.0 in /home/owner/.local/lib/python3.10/site-packages (from dask) (1.4.1)\n",
      "Requirement already satisfied: toolz>=0.10.0 in /home/owner/.local/lib/python3.10/site-packages (from dask) (0.12.1)\n",
      "Requirement already satisfied: pyyaml>=5.3.1 in /usr/lib/python3/dist-packages (from dask) (5.4.1)\n",
      "Requirement already satisfied: cloudpickle>=1.5.0 in /home/owner/.local/lib/python3.10/site-packages (from dask) (3.0.0)\n",
      "Requirement already satisfied: packaging>=20.0 in /home/owner/.local/lib/python3.10/site-packages (from dask) (23.2)\n",
      "Requirement already satisfied: fsspec>=2021.09.0 in /home/owner/.local/lib/python3.10/site-packages (from dask) (2023.12.2)\n",
      "Requirement already satisfied: click>=8.1 in /home/owner/.local/lib/python3.10/site-packages (from dask) (8.1.7)\n",
      "Requirement already satisfied: pandas>=2 in /home/owner/.local/lib/python3.10/site-packages (from dask-expr) (2.2.1)\n",
      "Requirement already satisfied: pyarrow>=7.0.0 in /home/owner/.local/lib/python3.10/site-packages (from dask-expr) (15.0.1)\n",
      "Requirement already satisfied: zipp>=0.5 in /usr/lib/python3/dist-packages (from importlib-metadata>=4.13.0->dask) (1.0.0)\n",
      "Requirement already satisfied: pytz>=2020.1 in /usr/lib/python3/dist-packages (from pandas>=2->dask-expr) (2022.1)\n",
      "Requirement already satisfied: tzdata>=2022.7 in /home/owner/.local/lib/python3.10/site-packages (from pandas>=2->dask-expr) (2023.3)\n",
      "Requirement already satisfied: python-dateutil>=2.8.2 in /home/owner/.local/lib/python3.10/site-packages (from pandas>=2->dask-expr) (2.8.2)\n",
      "Requirement already satisfied: numpy<2,>=1.22.4 in /home/owner/.local/lib/python3.10/site-packages (from pandas>=2->dask-expr) (1.26.2)\n",
      "Requirement already satisfied: locket in /home/owner/.local/lib/python3.10/site-packages (from partd>=1.2.0->dask) (1.0.0)\n",
      "Requirement already satisfied: six>=1.5 in /usr/lib/python3/dist-packages (from python-dateutil>=2.8.2->pandas>=2->dask-expr) (1.16.0)\n",
      "Note: you may need to restart the kernel to use updated packages.\n"
=======
      "step 100 by 1000\n",
      "step 200 by 1000\n",
      "step 300 by 1000\n",
      "step 400 by 1000\n",
      "step 500 by 1000\n",
      "step 600 by 1000\n",
      "step 700 by 1000\n",
      "step 800 by 1000\n",
      "step 900 by 1000\n"
>>>>>>> d380578008c9fbaa6da175a9186677c464923a56
     ]
    }
   ],
   "source": [
<<<<<<< HEAD
    "%pip install dask dask-expr"
=======
    "chunksize = 1000\n",
    "test = None\n",
    "for count, chunk in enumerate(pd.read_csv(\"/home/owner/Documents/DEV/graphs/graphs_and_structural_analysis/Santander_Product_Recommendation/test_ver2.csv\",\n",
    "                         chunksize=chunksize)):\n",
    "    # process each chunk here\n",
    "    if (count + 1) % 100 == 0: print(f\"step {count + 1} by 1000\")\n",
    "    if test is not None: \n",
    "        test = pd.concat([test, chunk])\n",
    "    else: test = chunk"
>>>>>>> d380578008c9fbaa6da175a9186677c464923a56
   ]
  },
  {
   "cell_type": "code",
<<<<<<< HEAD
   "execution_count": 4,
   "metadata": {},
   "outputs": [],
   "source": [
    "import dask.dataframe as dd"
   ]
  },
  {
   "cell_type": "code",
   "execution_count": 5,
   "metadata": {},
   "outputs": [],
   "source": [
    "train = dd.read_csv(\"/home/owner/Documents/DEV/Graphs/Project/graphs_and_structural_analysis/Santander_Product_Recommendation/train_ver2.csv\",\n",
    "                    dtype={'cod_prov': 'float64',\n",
    "                                'indrel_1mes': 'object',\n",
    "                                'ult_fec_cli_1t': 'object',\n",
    "                                'conyuemp': 'object',\n",
    "                                'age': 'object',\n",
    "                                'age': 'object',\n",
    "                                'antiguedad': 'object',\n",
    "                                'ind_actividad_cliente': 'float64',\n",
    "                                'ind_nom_pens_ult1': 'float64',\n",
    "                                'ind_nomina_ult1': 'float64',\n",
    "                                'ind_nuevo': 'float64',\n",
    "                                'indrel': 'float64',\n",
    "                                'tipodom': 'float64'\n",
    "                            }\n",
    "        )"
   ]
  },
  {
   "cell_type": "code",
   "execution_count": 6,
   "metadata": {},
   "outputs": [
    {
     "name": "stderr",
     "output_type": "stream",
     "text": [
      "/home/owner/.local/lib/python3.10/site-packages/dask/dataframe/io/csv.py:195: DtypeWarning: Columns (12,16,23) have mixed types. Specify dtype option on import or set low_memory=False.\n",
      "  df = reader(bio, **kwargs)\n"
     ]
    }
   ],
   "source": [
    "train = train.compute()"
   ]
  },
  {
   "cell_type": "code",
   "execution_count": 7,
=======
   "execution_count": 28,
>>>>>>> d380578008c9fbaa6da175a9186677c464923a56
   "metadata": {},
   "outputs": [],
   "source": [
    "col_names = {\"ncodpers\":\"cust_id\", \"ind_empleado\":\"emp_index\",\"pais_residencia\":\"residence\",\n",
    "            \"sexo\":\"sex\",\"fecha_alta\":\"first_date\",\"ind_nuevo\":\"new_cust\",\"antiguedad\":\"seniority\",\n",
    "            \"indrel\":\"is_primary\",\"ult_fec_cli_1t\":\"last_primary_date\",\"indrel_1mes\":\"cust_type\",\n",
    "            \"tiprel_1mes\":\"cust_rel_type\",\"indresi\":\"residence_index\",\"indext\":\"foreigner_index\",\n",
    "            \"conyuemp\":\"spouse_index\",\"canal_entrada\":\"channel\",\"cod_prov\":\"province\",\"nomprov\":\"province_name\",\n",
    "            \"ind_actividad_cliente\":\"active_index\",\"renta\":\"income\",\"segmento\":\"segment\"}\n",
    "\n",
<<<<<<< HEAD
    "train.rename(col_names, axis = 1, inplace = True)"
=======
    "test.rename(col_names, axis = 1, inplace = True)"
>>>>>>> d380578008c9fbaa6da175a9186677c464923a56
   ]
  },
  {
   "cell_type": "code",
<<<<<<< HEAD
   "execution_count": 8,
   "metadata": {},
   "outputs": [],
   "source": [
    "train.age = pd.to_numeric(train.age, errors='coerce')\n",
    "train.income = pd.to_numeric(train.income, errors='coerce')\n",
    "train.seniority = pd.to_numeric(train.seniority, errors='coerce')\n",
    "train.first_date = pd.to_datetime(train.first_date, errors = 'coerce')\n",
    "train.cust_type = pd.to_numeric(train.cust_type, errors='coerce')\n",
    "train['fecha_dato'] = pd.to_datetime(train['fecha_dato'])"
=======
   "execution_count": 29,
   "metadata": {},
   "outputs": [],
   "source": [
    "test.age = pd.to_numeric(test.age, errors='coerce')\n",
    "test.income = pd.to_numeric(test.income, errors='coerce')\n",
    "test.seniority = pd.to_numeric(test.seniority, errors='coerce')\n",
    "test.first_date = pd.to_datetime(test.first_date, errors = 'coerce')\n",
    "test.cust_type = pd.to_numeric(test.cust_type, errors='coerce')\n",
    "test['fecha_dato'] = pd.to_datetime(test['fecha_dato'])"
>>>>>>> d380578008c9fbaa6da175a9186677c464923a56
   ]
  },
  {
   "cell_type": "code",
<<<<<<< HEAD
   "execution_count": 9,
=======
   "execution_count": 30,
>>>>>>> d380578008c9fbaa6da175a9186677c464923a56
   "metadata": {},
   "outputs": [
    {
     "data": {
      "text/plain": [
       "fecha_dato           0.000000\n",
       "cust_id              0.000000\n",
<<<<<<< HEAD
       "emp_index            0.002032\n",
       "residence            0.002032\n",
       "sex                  0.002037\n",
       "age                  0.002032\n",
       "first_date           0.002032\n",
       "new_cust             0.002032\n",
       "seniority            0.002032\n",
       "is_primary           0.002032\n",
       "last_primary_date    0.998183\n",
       "cust_type            0.011039\n",
       "cust_rel_type        0.010975\n",
       "residence_index      0.002032\n",
       "foreigner_index      0.002032\n",
       "spouse_index         0.999868\n",
       "channel              0.013638\n",
       "indfall              0.002032\n",
       "tipodom              0.002032\n",
       "province             0.006858\n",
       "province_name        0.006858\n",
       "active_index         0.002032\n",
       "income               0.204756\n",
       "segment              0.013876\n",
       "ind_ahor_fin_ult1    0.000000\n",
       "ind_aval_fin_ult1    0.000000\n",
       "ind_cco_fin_ult1     0.000000\n",
       "ind_cder_fin_ult1    0.000000\n",
       "ind_cno_fin_ult1     0.000000\n",
       "ind_ctju_fin_ult1    0.000000\n",
       "ind_ctma_fin_ult1    0.000000\n",
       "ind_ctop_fin_ult1    0.000000\n",
       "ind_ctpp_fin_ult1    0.000000\n",
       "ind_deco_fin_ult1    0.000000\n",
       "ind_deme_fin_ult1    0.000000\n",
       "ind_dela_fin_ult1    0.000000\n",
       "ind_ecue_fin_ult1    0.000000\n",
       "ind_fond_fin_ult1    0.000000\n",
       "ind_hip_fin_ult1     0.000000\n",
       "ind_plan_fin_ult1    0.000000\n",
       "ind_pres_fin_ult1    0.000000\n",
       "ind_reca_fin_ult1    0.000000\n",
       "ind_tjcr_fin_ult1    0.000000\n",
       "ind_valo_fin_ult1    0.000000\n",
       "ind_viv_fin_ult1     0.000000\n",
       "ind_nomina_ult1      0.001177\n",
       "ind_nom_pens_ult1    0.001177\n",
       "ind_recibo_ult1      0.000000\n",
       "dtype: float64"
      ]
     },
     "execution_count": 9,
=======
       "emp_index            0.000000\n",
       "residence            0.000000\n",
       "sex                  0.000005\n",
       "age                  0.000000\n",
       "first_date           0.000000\n",
       "new_cust             0.000000\n",
       "seniority            0.000000\n",
       "is_primary           0.000000\n",
       "last_primary_date    0.998190\n",
       "cust_type            0.000025\n",
       "cust_rel_type        0.000025\n",
       "residence_index      0.000000\n",
       "foreigner_index      0.000000\n",
       "spouse_index         0.999888\n",
       "channel              0.002239\n",
       "indfall              0.000000\n",
       "tipodom              0.000000\n",
       "province             0.004299\n",
       "province_name        0.004299\n",
       "active_index         0.000000\n",
       "income               0.245225\n",
       "segment              0.002418\n",
       "dtype: float64"
      ]
     },
     "execution_count": 30,
>>>>>>> d380578008c9fbaa6da175a9186677c464923a56
     "metadata": {},
     "output_type": "execute_result"
    }
   ],
   "source": [
<<<<<<< HEAD
    "train.isna().sum() / len(train)"
=======
    "test.isna().sum() / len(test)"
>>>>>>> d380578008c9fbaa6da175a9186677c464923a56
   ]
  },
  {
   "cell_type": "code",
<<<<<<< HEAD
   "execution_count": 10,
=======
   "execution_count": 31,
>>>>>>> d380578008c9fbaa6da175a9186677c464923a56
   "metadata": {},
   "outputs": [
    {
     "name": "stderr",
     "output_type": "stream",
     "text": [
<<<<<<< HEAD
      "/tmp/ipykernel_5998/9000709.py:10: ChainedAssignmentError: A value is trying to be set on a copy of a DataFrame or Series through chained assignment using an inplace method.\n",
      "When using the Copy-on-Write mode, such inplace method never works to update the original DataFrame or Series, because the intermediate object on which we are setting values always behaves as a copy.\n",
      "\n",
      "For example, when doing 'df[col].method(value, inplace=True)', try using 'df.method({col: value}, inplace=True)' instead, to perform the operation inplace on the original object.\n",
      "\n",
      "\n",
      "  train['income'].fillna(train['income'].mean(), inplace = True)\n"
=======
      "/tmp/ipykernel_297343/3616499070.py:10: FutureWarning: A value is trying to be set on a copy of a DataFrame or Series through chained assignment using an inplace method.\n",
      "The behavior will change in pandas 3.0. This inplace method will never work because the intermediate object on which we are setting values always behaves as a copy.\n",
      "\n",
      "For example, when doing 'df[col].method(value, inplace=True)', try using 'df.method({col: value}, inplace=True)' or df[col] = df[col].method(value) instead, to perform the operation inplace on the original object.\n",
      "\n",
      "\n",
      "  test['income'].fillna(test['income'].mean(), inplace = True)\n"
>>>>>>> d380578008c9fbaa6da175a9186677c464923a56
     ]
    }
   ],
   "source": [
    "# For features with missing values percentage < 10%, use the most common factor level to impute\n",
    "cols = ['emp_index','residence','sex','first_date','new_cust','is_primary',\"cust_type\",\"cust_rel_type\",\n",
    "       \"province\",\"province_name\",\"active_index\",\"channel\",\"segment\"]\n",
    "\n",
    "for i in cols:\n",
<<<<<<< HEAD
    "    train.loc[train[i].isnull(), i] = train[i].value_counts().index[0]\n",
    "    \n",
    "# For features with missing value accounts for over 10%, impute their missing values based on the mean at different dimensions\n",
    "# For Income, impute the missings using the medians of Customer Segment and Province\n",
    "train['income'].fillna(train['income'].mean(), inplace = True)\n"
=======
    "    test.loc[test[i].isnull(), i] = test[i].value_counts().index[0]\n",
    "    \n",
    "# For features with missing value accounts for over 10%, impute their missing values based on the mean at different dimensions\n",
    "# For Income, impute the missings using the medians of Customer Segment and Province\n",
    "test['income'].fillna(test['income'].mean(), inplace = True)\n"
>>>>>>> d380578008c9fbaa6da175a9186677c464923a56
   ]
  },
  {
   "cell_type": "code",
<<<<<<< HEAD
   "execution_count": 11,
=======
   "execution_count": 32,
>>>>>>> d380578008c9fbaa6da175a9186677c464923a56
   "metadata": {},
   "outputs": [],
   "source": [
    "# Drop the last primary date and spouse index fields given over 99% missing values\n",
<<<<<<< HEAD
    "train.drop(['last_primary_date','spouse_index'], axis = 1, inplace = True)"
=======
    "test.drop(['last_primary_date','spouse_index'], axis = 1, inplace = True)"
>>>>>>> d380578008c9fbaa6da175a9186677c464923a56
   ]
  },
  {
   "cell_type": "code",
<<<<<<< HEAD
   "execution_count": 12,
=======
   "execution_count": 33,
>>>>>>> d380578008c9fbaa6da175a9186677c464923a56
   "metadata": {},
   "outputs": [
    {
     "data": {
      "text/html": [
       "<div>\n",
       "<style scoped>\n",
       "    .dataframe tbody tr th:only-of-type {\n",
       "        vertical-align: middle;\n",
       "    }\n",
       "\n",
       "    .dataframe tbody tr th {\n",
       "        vertical-align: top;\n",
       "    }\n",
       "\n",
       "    .dataframe thead th {\n",
       "        text-align: right;\n",
       "    }\n",
       "</style>\n",
       "<table border=\"1\" class=\"dataframe\">\n",
       "  <thead>\n",
       "    <tr style=\"text-align: right;\">\n",
       "      <th></th>\n",
       "      <th>fecha_dato</th>\n",
       "      <th>cust_id</th>\n",
       "      <th>emp_index</th>\n",
       "      <th>residence</th>\n",
       "      <th>sex</th>\n",
       "      <th>age</th>\n",
       "      <th>first_date</th>\n",
       "      <th>new_cust</th>\n",
       "      <th>seniority</th>\n",
       "      <th>is_primary</th>\n",
       "      <th>...</th>\n",
<<<<<<< HEAD
       "      <th>ind_hip_fin_ult1</th>\n",
       "      <th>ind_plan_fin_ult1</th>\n",
       "      <th>ind_pres_fin_ult1</th>\n",
       "      <th>ind_reca_fin_ult1</th>\n",
       "      <th>ind_tjcr_fin_ult1</th>\n",
       "      <th>ind_valo_fin_ult1</th>\n",
       "      <th>ind_viv_fin_ult1</th>\n",
       "      <th>ind_nomina_ult1</th>\n",
       "      <th>ind_nom_pens_ult1</th>\n",
       "      <th>ind_recibo_ult1</th>\n",
=======
       "      <th>residence_index</th>\n",
       "      <th>foreigner_index</th>\n",
       "      <th>channel</th>\n",
       "      <th>indfall</th>\n",
       "      <th>tipodom</th>\n",
       "      <th>province</th>\n",
       "      <th>province_name</th>\n",
       "      <th>active_index</th>\n",
       "      <th>income</th>\n",
       "      <th>segment</th>\n",
>>>>>>> d380578008c9fbaa6da175a9186677c464923a56
       "    </tr>\n",
       "  </thead>\n",
       "  <tbody>\n",
       "    <tr>\n",
       "      <th>0</th>\n",
<<<<<<< HEAD
       "      <td>2015-01-28</td>\n",
       "      <td>1375586</td>\n",
       "      <td>N</td>\n",
       "      <td>ES</td>\n",
       "      <td>H</td>\n",
       "      <td>35.0</td>\n",
       "      <td>2015-01-12</td>\n",
       "      <td>0.0</td>\n",
       "      <td>6.0</td>\n",
       "      <td>1.0</td>\n",
       "      <td>...</td>\n",
       "      <td>0</td>\n",
       "      <td>0</td>\n",
       "      <td>0</td>\n",
       "      <td>0</td>\n",
       "      <td>0</td>\n",
       "      <td>0</td>\n",
       "      <td>0</td>\n",
       "      <td>0.0</td>\n",
       "      <td>0.0</td>\n",
       "      <td>0</td>\n",
       "    </tr>\n",
       "    <tr>\n",
       "      <th>1</th>\n",
       "      <td>2015-01-28</td>\n",
       "      <td>1050611</td>\n",
       "      <td>N</td>\n",
       "      <td>ES</td>\n",
       "      <td>V</td>\n",
       "      <td>23.0</td>\n",
       "      <td>2012-08-10</td>\n",
       "      <td>0.0</td>\n",
       "      <td>35.0</td>\n",
       "      <td>1.0</td>\n",
       "      <td>...</td>\n",
       "      <td>0</td>\n",
       "      <td>0</td>\n",
       "      <td>0</td>\n",
       "      <td>0</td>\n",
       "      <td>0</td>\n",
       "      <td>0</td>\n",
       "      <td>0</td>\n",
       "      <td>0.0</td>\n",
       "      <td>0.0</td>\n",
       "      <td>0</td>\n",
       "    </tr>\n",
       "    <tr>\n",
       "      <th>2</th>\n",
       "      <td>2015-01-28</td>\n",
       "      <td>1050612</td>\n",
       "      <td>N</td>\n",
       "      <td>ES</td>\n",
       "      <td>V</td>\n",
       "      <td>23.0</td>\n",
       "      <td>2012-08-10</td>\n",
       "      <td>0.0</td>\n",
       "      <td>35.0</td>\n",
       "      <td>1.0</td>\n",
       "      <td>...</td>\n",
       "      <td>0</td>\n",
       "      <td>0</td>\n",
       "      <td>0</td>\n",
       "      <td>0</td>\n",
       "      <td>0</td>\n",
       "      <td>0</td>\n",
       "      <td>0</td>\n",
       "      <td>0.0</td>\n",
       "      <td>0.0</td>\n",
       "      <td>0</td>\n",
       "    </tr>\n",
       "    <tr>\n",
       "      <th>3</th>\n",
       "      <td>2015-01-28</td>\n",
       "      <td>1050613</td>\n",
       "      <td>N</td>\n",
       "      <td>ES</td>\n",
       "      <td>H</td>\n",
       "      <td>22.0</td>\n",
       "      <td>2012-08-10</td>\n",
       "      <td>0.0</td>\n",
       "      <td>35.0</td>\n",
       "      <td>1.0</td>\n",
       "      <td>...</td>\n",
       "      <td>0</td>\n",
       "      <td>0</td>\n",
       "      <td>0</td>\n",
       "      <td>0</td>\n",
       "      <td>0</td>\n",
       "      <td>0</td>\n",
       "      <td>0</td>\n",
       "      <td>0.0</td>\n",
       "      <td>0.0</td>\n",
       "      <td>0</td>\n",
       "    </tr>\n",
       "    <tr>\n",
       "      <th>4</th>\n",
       "      <td>2015-01-28</td>\n",
       "      <td>1050614</td>\n",
       "      <td>N</td>\n",
       "      <td>ES</td>\n",
       "      <td>V</td>\n",
       "      <td>23.0</td>\n",
       "      <td>2012-08-10</td>\n",
       "      <td>0.0</td>\n",
       "      <td>35.0</td>\n",
       "      <td>1.0</td>\n",
       "      <td>...</td>\n",
       "      <td>0</td>\n",
       "      <td>0</td>\n",
       "      <td>0</td>\n",
       "      <td>0</td>\n",
       "      <td>0</td>\n",
       "      <td>0</td>\n",
       "      <td>0</td>\n",
       "      <td>0.0</td>\n",
       "      <td>0.0</td>\n",
       "      <td>0</td>\n",
       "    </tr>\n",
       "  </tbody>\n",
       "</table>\n",
       "<p>5 rows × 46 columns</p>\n",
       "</div>"
      ],
      "text/plain": [
       "  fecha_dato  cust_id emp_index residence sex   age first_date  new_cust  \\\n",
       "0 2015-01-28  1375586         N        ES   H  35.0 2015-01-12       0.0   \n",
       "1 2015-01-28  1050611         N        ES   V  23.0 2012-08-10       0.0   \n",
       "2 2015-01-28  1050612         N        ES   V  23.0 2012-08-10       0.0   \n",
       "3 2015-01-28  1050613         N        ES   H  22.0 2012-08-10       0.0   \n",
       "4 2015-01-28  1050614         N        ES   V  23.0 2012-08-10       0.0   \n",
       "\n",
       "   seniority  is_primary  ...  ind_hip_fin_ult1 ind_plan_fin_ult1  \\\n",
       "0        6.0         1.0  ...                 0                 0   \n",
       "1       35.0         1.0  ...                 0                 0   \n",
       "2       35.0         1.0  ...                 0                 0   \n",
       "3       35.0         1.0  ...                 0                 0   \n",
       "4       35.0         1.0  ...                 0                 0   \n",
       "\n",
       "  ind_pres_fin_ult1 ind_reca_fin_ult1 ind_tjcr_fin_ult1 ind_valo_fin_ult1  \\\n",
       "0                 0                 0                 0                 0   \n",
       "1                 0                 0                 0                 0   \n",
       "2                 0                 0                 0                 0   \n",
       "3                 0                 0                 0                 0   \n",
       "4                 0                 0                 0                 0   \n",
       "\n",
       "   ind_viv_fin_ult1  ind_nomina_ult1 ind_nom_pens_ult1  ind_recibo_ult1  \n",
       "0                 0              0.0               0.0                0  \n",
       "1                 0              0.0               0.0                0  \n",
       "2                 0              0.0               0.0                0  \n",
       "3                 0              0.0               0.0                0  \n",
       "4                 0              0.0               0.0                0  \n",
       "\n",
       "[5 rows x 46 columns]"
      ]
     },
     "execution_count": 12,
=======
       "      <td>2016-06-28</td>\n",
       "      <td>15889</td>\n",
       "      <td>F</td>\n",
       "      <td>ES</td>\n",
       "      <td>V</td>\n",
       "      <td>56</td>\n",
       "      <td>1995-01-16</td>\n",
       "      <td>0</td>\n",
       "      <td>256</td>\n",
       "      <td>1</td>\n",
       "      <td>...</td>\n",
       "      <td>S</td>\n",
       "      <td>N</td>\n",
       "      <td>KAT</td>\n",
       "      <td>N</td>\n",
       "      <td>1</td>\n",
       "      <td>28.0</td>\n",
       "      <td>MADRID</td>\n",
       "      <td>1</td>\n",
       "      <td>326124.900000</td>\n",
       "      <td>01 - TOP</td>\n",
       "    </tr>\n",
       "    <tr>\n",
       "      <th>1</th>\n",
       "      <td>2016-06-28</td>\n",
       "      <td>1170544</td>\n",
       "      <td>N</td>\n",
       "      <td>ES</td>\n",
       "      <td>H</td>\n",
       "      <td>36</td>\n",
       "      <td>2013-08-28</td>\n",
       "      <td>0</td>\n",
       "      <td>34</td>\n",
       "      <td>1</td>\n",
       "      <td>...</td>\n",
       "      <td>S</td>\n",
       "      <td>N</td>\n",
       "      <td>KAT</td>\n",
       "      <td>N</td>\n",
       "      <td>1</td>\n",
       "      <td>3.0</td>\n",
       "      <td>ALICANTE</td>\n",
       "      <td>0</td>\n",
       "      <td>134087.870595</td>\n",
       "      <td>02 - PARTICULARES</td>\n",
       "    </tr>\n",
       "    <tr>\n",
       "      <th>2</th>\n",
       "      <td>2016-06-28</td>\n",
       "      <td>1170545</td>\n",
       "      <td>N</td>\n",
       "      <td>ES</td>\n",
       "      <td>V</td>\n",
       "      <td>22</td>\n",
       "      <td>2013-08-28</td>\n",
       "      <td>0</td>\n",
       "      <td>34</td>\n",
       "      <td>1</td>\n",
       "      <td>...</td>\n",
       "      <td>S</td>\n",
       "      <td>N</td>\n",
       "      <td>KHE</td>\n",
       "      <td>N</td>\n",
       "      <td>1</td>\n",
       "      <td>15.0</td>\n",
       "      <td>CORUÑA, A</td>\n",
       "      <td>1</td>\n",
       "      <td>134087.870595</td>\n",
       "      <td>03 - UNIVERSITARIO</td>\n",
       "    </tr>\n",
       "    <tr>\n",
       "      <th>3</th>\n",
       "      <td>2016-06-28</td>\n",
       "      <td>1170547</td>\n",
       "      <td>N</td>\n",
       "      <td>ES</td>\n",
       "      <td>H</td>\n",
       "      <td>22</td>\n",
       "      <td>2013-08-28</td>\n",
       "      <td>0</td>\n",
       "      <td>34</td>\n",
       "      <td>1</td>\n",
       "      <td>...</td>\n",
       "      <td>S</td>\n",
       "      <td>N</td>\n",
       "      <td>KHE</td>\n",
       "      <td>N</td>\n",
       "      <td>1</td>\n",
       "      <td>8.0</td>\n",
       "      <td>BARCELONA</td>\n",
       "      <td>0</td>\n",
       "      <td>148402.980000</td>\n",
       "      <td>03 - UNIVERSITARIO</td>\n",
       "    </tr>\n",
       "    <tr>\n",
       "      <th>4</th>\n",
       "      <td>2016-06-28</td>\n",
       "      <td>1170548</td>\n",
       "      <td>N</td>\n",
       "      <td>ES</td>\n",
       "      <td>H</td>\n",
       "      <td>22</td>\n",
       "      <td>2013-08-28</td>\n",
       "      <td>0</td>\n",
       "      <td>34</td>\n",
       "      <td>1</td>\n",
       "      <td>...</td>\n",
       "      <td>S</td>\n",
       "      <td>N</td>\n",
       "      <td>KHE</td>\n",
       "      <td>N</td>\n",
       "      <td>1</td>\n",
       "      <td>7.0</td>\n",
       "      <td>BALEARS, ILLES</td>\n",
       "      <td>0</td>\n",
       "      <td>106885.800000</td>\n",
       "      <td>03 - UNIVERSITARIO</td>\n",
       "    </tr>\n",
       "  </tbody>\n",
       "</table>\n",
       "<p>5 rows × 22 columns</p>\n",
       "</div>"
      ],
      "text/plain": [
       "  fecha_dato  cust_id emp_index residence sex  age first_date  new_cust  \\\n",
       "0 2016-06-28    15889         F        ES   V   56 1995-01-16         0   \n",
       "1 2016-06-28  1170544         N        ES   H   36 2013-08-28         0   \n",
       "2 2016-06-28  1170545         N        ES   V   22 2013-08-28         0   \n",
       "3 2016-06-28  1170547         N        ES   H   22 2013-08-28         0   \n",
       "4 2016-06-28  1170548         N        ES   H   22 2013-08-28         0   \n",
       "\n",
       "   seniority  is_primary  ...  residence_index foreigner_index channel  \\\n",
       "0        256           1  ...                S               N     KAT   \n",
       "1         34           1  ...                S               N     KAT   \n",
       "2         34           1  ...                S               N     KHE   \n",
       "3         34           1  ...                S               N     KHE   \n",
       "4         34           1  ...                S               N     KHE   \n",
       "\n",
       "  indfall tipodom province   province_name  active_index         income  \\\n",
       "0       N       1     28.0          MADRID             1  326124.900000   \n",
       "1       N       1      3.0        ALICANTE             0  134087.870595   \n",
       "2       N       1     15.0       CORUÑA, A             1  134087.870595   \n",
       "3       N       1      8.0       BARCELONA             0  148402.980000   \n",
       "4       N       1      7.0  BALEARS, ILLES             0  106885.800000   \n",
       "\n",
       "              segment  \n",
       "0            01 - TOP  \n",
       "1   02 - PARTICULARES  \n",
       "2  03 - UNIVERSITARIO  \n",
       "3  03 - UNIVERSITARIO  \n",
       "4  03 - UNIVERSITARIO  \n",
       "\n",
       "[5 rows x 22 columns]"
      ]
     },
     "execution_count": 33,
>>>>>>> d380578008c9fbaa6da175a9186677c464923a56
     "metadata": {},
     "output_type": "execute_result"
    }
   ],
   "source": [
<<<<<<< HEAD
    "train.head()"
=======
    "test.head()"
>>>>>>> d380578008c9fbaa6da175a9186677c464923a56
   ]
  },
  {
   "cell_type": "markdown",
   "metadata": {},
   "source": [
    "# Feature engineering"
   ]
  },
  {
   "cell_type": "code",
<<<<<<< HEAD
   "execution_count": 13,
=======
   "execution_count": 34,
>>>>>>> d380578008c9fbaa6da175a9186677c464923a56
   "metadata": {},
   "outputs": [],
   "source": [
    "# 1) Age group: group the age for lifestages: young, adult, senior, elder\n",
    "age_group = [0, 20, 45, 65, 100]\n",
    "age_labels = ['young', 'adult', 'senior', 'elder']\n",
    "\n",
<<<<<<< HEAD
    "train['age_grouped'] = pd.cut(train.age, bins = age_group, labels = age_labels)"
=======
    "test['age_grouped'] = pd.cut(test.age, bins = age_group, labels = age_labels)"
>>>>>>> d380578008c9fbaa6da175a9186677c464923a56
   ]
  },
  {
   "cell_type": "code",
<<<<<<< HEAD
   "execution_count": 14,
=======
   "execution_count": 35,
>>>>>>> d380578008c9fbaa6da175a9186677c464923a56
   "metadata": {},
   "outputs": [],
   "source": [
    "# 2) Income Group: group the incomes at Low, Ordinary, Median-high and High classes at (real case may be more complex)\n",
    "import numpy as np\n",
<<<<<<< HEAD
    "df_income_group = [0, np.nanpercentile(train['income'], 25), np.nanpercentile(train['income'], 50), np.nanpercentile(train['income'], 75), np.nanpercentile(train['income'], 100)]\n",
    "income_labels = ['Low','Ordinary','Median-high','High']\n",
    "\n",
    "train['income_grouped'] = pd.cut(train['income'], df_income_group, labels = income_labels)"
=======
    "df_income_group = [0, np.nanpercentile(test['income'], 25), np.nanpercentile(test['income'], 50), np.nanpercentile(test['income'], 75), np.nanpercentile(test['income'], 100)]\n",
    "income_labels = ['Low','Ordinary','Median-high','High']\n",
    "\n",
    "test['income_grouped'] = pd.cut(test['income'], df_income_group, labels = income_labels)"
>>>>>>> d380578008c9fbaa6da175a9186677c464923a56
   ]
  },
  {
   "cell_type": "code",
<<<<<<< HEAD
   "execution_count": 15,
   "metadata": {},
   "outputs": [],
   "source": [
    "categorical = train.columns[(train.dtypes == \"object\") | (train.dtypes == \"category\")]"
=======
   "execution_count": 36,
   "metadata": {},
   "outputs": [],
   "source": [
    "categorical = test.columns[(test.dtypes == \"object\") | (test.dtypes == \"category\")]"
>>>>>>> d380578008c9fbaa6da175a9186677c464923a56
   ]
  },
  {
   "cell_type": "code",
<<<<<<< HEAD
   "execution_count": 16,
=======
   "execution_count": 37,
>>>>>>> d380578008c9fbaa6da175a9186677c464923a56
   "metadata": {},
   "outputs": [
    {
     "data": {
      "text/plain": [
       "Index(['emp_index', 'residence', 'sex', 'cust_rel_type', 'residence_index',\n",
       "       'foreigner_index', 'channel', 'indfall', 'province_name', 'segment',\n",
       "       'age_grouped', 'income_grouped'],\n",
       "      dtype='object')"
      ]
     },
<<<<<<< HEAD
     "execution_count": 16,
=======
     "execution_count": 37,
>>>>>>> d380578008c9fbaa6da175a9186677c464923a56
     "metadata": {},
     "output_type": "execute_result"
    }
   ],
   "source": [
    "categorical"
   ]
  },
  {
   "cell_type": "code",
<<<<<<< HEAD
   "execution_count": 17,
=======
   "execution_count": 38,
>>>>>>> d380578008c9fbaa6da175a9186677c464923a56
   "metadata": {},
   "outputs": [],
   "source": [
    "for column in categorical:\n",
<<<<<<< HEAD
    "    train = pd.concat([train, pd.get_dummies(train[column], prefix=column)], axis=1)\n",
    "    train.drop(columns=column, inplace=True)"
=======
    "    test = pd.concat([test, pd.get_dummies(test[column], prefix=column)], axis=1)\n",
    "    test.drop(columns=column, inplace=True)"
>>>>>>> d380578008c9fbaa6da175a9186677c464923a56
   ]
  },
  {
   "cell_type": "code",
<<<<<<< HEAD
   "execution_count": 18,
=======
   "execution_count": 39,
>>>>>>> d380578008c9fbaa6da175a9186677c464923a56
   "metadata": {},
   "outputs": [
    {
     "data": {
      "text/html": [
       "<div>\n",
       "<style scoped>\n",
       "    .dataframe tbody tr th:only-of-type {\n",
       "        vertical-align: middle;\n",
       "    }\n",
       "\n",
       "    .dataframe tbody tr th {\n",
       "        vertical-align: top;\n",
       "    }\n",
       "\n",
       "    .dataframe thead th {\n",
       "        text-align: right;\n",
       "    }\n",
       "</style>\n",
       "<table border=\"1\" class=\"dataframe\">\n",
       "  <thead>\n",
       "    <tr style=\"text-align: right;\">\n",
       "      <th></th>\n",
       "      <th>fecha_dato</th>\n",
       "      <th>cust_id</th>\n",
       "      <th>age</th>\n",
       "      <th>first_date</th>\n",
       "      <th>new_cust</th>\n",
       "      <th>seniority</th>\n",
       "      <th>is_primary</th>\n",
       "      <th>cust_type</th>\n",
       "      <th>tipodom</th>\n",
       "      <th>province</th>\n",
       "      <th>...</th>\n",
       "      <th>segment_02 - PARTICULARES</th>\n",
       "      <th>segment_03 - UNIVERSITARIO</th>\n",
       "      <th>age_grouped_young</th>\n",
       "      <th>age_grouped_adult</th>\n",
       "      <th>age_grouped_senior</th>\n",
       "      <th>age_grouped_elder</th>\n",
       "      <th>income_grouped_Low</th>\n",
       "      <th>income_grouped_Ordinary</th>\n",
       "      <th>income_grouped_Median-high</th>\n",
       "      <th>income_grouped_High</th>\n",
       "    </tr>\n",
       "  </thead>\n",
       "  <tbody>\n",
       "    <tr>\n",
       "      <th>0</th>\n",
<<<<<<< HEAD
       "      <td>2015-01-28</td>\n",
       "      <td>1375586</td>\n",
       "      <td>35.0</td>\n",
       "      <td>2015-01-12</td>\n",
       "      <td>0.0</td>\n",
       "      <td>6.0</td>\n",
       "      <td>1.0</td>\n",
       "      <td>1.0</td>\n",
       "      <td>1.0</td>\n",
       "      <td>29.0</td>\n",
       "      <td>...</td>\n",
       "      <td>True</td>\n",
=======
       "      <td>2016-06-28</td>\n",
       "      <td>15889</td>\n",
       "      <td>56</td>\n",
       "      <td>1995-01-16</td>\n",
       "      <td>0</td>\n",
       "      <td>256</td>\n",
       "      <td>1</td>\n",
       "      <td>1.0</td>\n",
       "      <td>1</td>\n",
       "      <td>28.0</td>\n",
       "      <td>...</td>\n",
       "      <td>False</td>\n",
       "      <td>False</td>\n",
>>>>>>> d380578008c9fbaa6da175a9186677c464923a56
       "      <td>False</td>\n",
       "      <td>False</td>\n",
       "      <td>True</td>\n",
       "      <td>False</td>\n",
       "      <td>False</td>\n",
       "      <td>False</td>\n",
<<<<<<< HEAD
       "      <td>True</td>\n",
       "      <td>False</td>\n",
       "      <td>False</td>\n",
       "    </tr>\n",
       "    <tr>\n",
       "      <th>1</th>\n",
       "      <td>2015-01-28</td>\n",
       "      <td>1050611</td>\n",
       "      <td>23.0</td>\n",
       "      <td>2012-08-10</td>\n",
       "      <td>0.0</td>\n",
       "      <td>35.0</td>\n",
       "      <td>1.0</td>\n",
       "      <td>1.0</td>\n",
       "      <td>1.0</td>\n",
       "      <td>13.0</td>\n",
       "      <td>...</td>\n",
       "      <td>False</td>\n",
       "      <td>True</td>\n",
       "      <td>False</td>\n",
=======
       "      <td>False</td>\n",
       "      <td>True</td>\n",
       "    </tr>\n",
       "    <tr>\n",
       "      <th>1</th>\n",
       "      <td>2016-06-28</td>\n",
       "      <td>1170544</td>\n",
       "      <td>36</td>\n",
       "      <td>2013-08-28</td>\n",
       "      <td>0</td>\n",
       "      <td>34</td>\n",
       "      <td>1</td>\n",
       "      <td>1.0</td>\n",
       "      <td>1</td>\n",
       "      <td>3.0</td>\n",
       "      <td>...</td>\n",
>>>>>>> d380578008c9fbaa6da175a9186677c464923a56
       "      <td>True</td>\n",
       "      <td>False</td>\n",
       "      <td>False</td>\n",
       "      <td>True</td>\n",
       "      <td>False</td>\n",
       "      <td>False</td>\n",
       "      <td>False</td>\n",
<<<<<<< HEAD
       "    </tr>\n",
       "    <tr>\n",
       "      <th>2</th>\n",
       "      <td>2015-01-28</td>\n",
       "      <td>1050612</td>\n",
       "      <td>23.0</td>\n",
       "      <td>2012-08-10</td>\n",
       "      <td>0.0</td>\n",
       "      <td>35.0</td>\n",
       "      <td>1.0</td>\n",
       "      <td>1.0</td>\n",
       "      <td>1.0</td>\n",
       "      <td>13.0</td>\n",
=======
       "      <td>False</td>\n",
       "      <td>True</td>\n",
       "      <td>False</td>\n",
       "    </tr>\n",
       "    <tr>\n",
       "      <th>2</th>\n",
       "      <td>2016-06-28</td>\n",
       "      <td>1170545</td>\n",
       "      <td>22</td>\n",
       "      <td>2013-08-28</td>\n",
       "      <td>0</td>\n",
       "      <td>34</td>\n",
       "      <td>1</td>\n",
       "      <td>1.0</td>\n",
       "      <td>1</td>\n",
       "      <td>15.0</td>\n",
>>>>>>> d380578008c9fbaa6da175a9186677c464923a56
       "      <td>...</td>\n",
       "      <td>False</td>\n",
       "      <td>True</td>\n",
       "      <td>False</td>\n",
       "      <td>True</td>\n",
       "      <td>False</td>\n",
       "      <td>False</td>\n",
       "      <td>False</td>\n",
       "      <td>False</td>\n",
       "      <td>True</td>\n",
       "      <td>False</td>\n",
       "    </tr>\n",
       "    <tr>\n",
       "      <th>3</th>\n",
<<<<<<< HEAD
       "      <td>2015-01-28</td>\n",
       "      <td>1050613</td>\n",
       "      <td>22.0</td>\n",
       "      <td>2012-08-10</td>\n",
       "      <td>0.0</td>\n",
       "      <td>35.0</td>\n",
       "      <td>1.0</td>\n",
       "      <td>1.0</td>\n",
       "      <td>1.0</td>\n",
       "      <td>50.0</td>\n",
=======
       "      <td>2016-06-28</td>\n",
       "      <td>1170547</td>\n",
       "      <td>22</td>\n",
       "      <td>2013-08-28</td>\n",
       "      <td>0</td>\n",
       "      <td>34</td>\n",
       "      <td>1</td>\n",
       "      <td>1.0</td>\n",
       "      <td>1</td>\n",
       "      <td>8.0</td>\n",
>>>>>>> d380578008c9fbaa6da175a9186677c464923a56
       "      <td>...</td>\n",
       "      <td>False</td>\n",
       "      <td>True</td>\n",
       "      <td>False</td>\n",
       "      <td>True</td>\n",
       "      <td>False</td>\n",
       "      <td>False</td>\n",
       "      <td>False</td>\n",
       "      <td>False</td>\n",
<<<<<<< HEAD
       "      <td>True</td>\n",
       "      <td>False</td>\n",
       "    </tr>\n",
       "    <tr>\n",
       "      <th>4</th>\n",
       "      <td>2015-01-28</td>\n",
       "      <td>1050614</td>\n",
       "      <td>23.0</td>\n",
       "      <td>2012-08-10</td>\n",
       "      <td>0.0</td>\n",
       "      <td>35.0</td>\n",
       "      <td>1.0</td>\n",
       "      <td>1.0</td>\n",
       "      <td>1.0</td>\n",
       "      <td>50.0</td>\n",
=======
       "      <td>False</td>\n",
       "      <td>True</td>\n",
       "    </tr>\n",
       "    <tr>\n",
       "      <th>4</th>\n",
       "      <td>2016-06-28</td>\n",
       "      <td>1170548</td>\n",
       "      <td>22</td>\n",
       "      <td>2013-08-28</td>\n",
       "      <td>0</td>\n",
       "      <td>34</td>\n",
       "      <td>1</td>\n",
       "      <td>1.0</td>\n",
       "      <td>1</td>\n",
       "      <td>7.0</td>\n",
>>>>>>> d380578008c9fbaa6da175a9186677c464923a56
       "      <td>...</td>\n",
       "      <td>False</td>\n",
       "      <td>True</td>\n",
       "      <td>False</td>\n",
       "      <td>True</td>\n",
       "      <td>False</td>\n",
       "      <td>False</td>\n",
       "      <td>False</td>\n",
<<<<<<< HEAD
       "      <td>False</td>\n",
=======
       "      <td>True</td>\n",
>>>>>>> d380578008c9fbaa6da175a9186677c464923a56
       "      <td>False</td>\n",
       "      <td>False</td>\n",
       "    </tr>\n",
       "  </tbody>\n",
       "</table>\n",
<<<<<<< HEAD
       "<p>5 rows × 397 columns</p>\n",
       "</div>"
      ],
      "text/plain": [
       "  fecha_dato  cust_id   age first_date  new_cust  seniority  is_primary  \\\n",
       "0 2015-01-28  1375586  35.0 2015-01-12       0.0        6.0         1.0   \n",
       "1 2015-01-28  1050611  23.0 2012-08-10       0.0       35.0         1.0   \n",
       "2 2015-01-28  1050612  23.0 2012-08-10       0.0       35.0         1.0   \n",
       "3 2015-01-28  1050613  22.0 2012-08-10       0.0       35.0         1.0   \n",
       "4 2015-01-28  1050614  23.0 2012-08-10       0.0       35.0         1.0   \n",
       "\n",
       "   cust_type  tipodom  province  ...  segment_02 - PARTICULARES  \\\n",
       "0        1.0      1.0      29.0  ...                       True   \n",
       "1        1.0      1.0      13.0  ...                      False   \n",
       "2        1.0      1.0      13.0  ...                      False   \n",
       "3        1.0      1.0      50.0  ...                      False   \n",
       "4        1.0      1.0      50.0  ...                      False   \n",
       "\n",
       "   segment_03 - UNIVERSITARIO  age_grouped_young  age_grouped_adult  \\\n",
       "0                       False              False               True   \n",
       "1                        True              False               True   \n",
=======
       "<p>5 rows × 371 columns</p>\n",
       "</div>"
      ],
      "text/plain": [
       "  fecha_dato  cust_id  age first_date  new_cust  seniority  is_primary  \\\n",
       "0 2016-06-28    15889   56 1995-01-16         0        256           1   \n",
       "1 2016-06-28  1170544   36 2013-08-28         0         34           1   \n",
       "2 2016-06-28  1170545   22 2013-08-28         0         34           1   \n",
       "3 2016-06-28  1170547   22 2013-08-28         0         34           1   \n",
       "4 2016-06-28  1170548   22 2013-08-28         0         34           1   \n",
       "\n",
       "   cust_type  tipodom  province  ...  segment_02 - PARTICULARES  \\\n",
       "0        1.0        1      28.0  ...                      False   \n",
       "1        1.0        1       3.0  ...                       True   \n",
       "2        1.0        1      15.0  ...                      False   \n",
       "3        1.0        1       8.0  ...                      False   \n",
       "4        1.0        1       7.0  ...                      False   \n",
       "\n",
       "   segment_03 - UNIVERSITARIO  age_grouped_young  age_grouped_adult  \\\n",
       "0                       False              False              False   \n",
       "1                       False              False               True   \n",
>>>>>>> d380578008c9fbaa6da175a9186677c464923a56
       "2                        True              False               True   \n",
       "3                        True              False               True   \n",
       "4                        True              False               True   \n",
       "\n",
       "   age_grouped_senior  age_grouped_elder  income_grouped_Low  \\\n",
<<<<<<< HEAD
       "0               False              False               False   \n",
       "1               False              False                True   \n",
=======
       "0                True              False               False   \n",
       "1               False              False               False   \n",
>>>>>>> d380578008c9fbaa6da175a9186677c464923a56
       "2               False              False               False   \n",
       "3               False              False               False   \n",
       "4               False              False               False   \n",
       "\n",
       "   income_grouped_Ordinary  income_grouped_Median-high  income_grouped_High  \n",
<<<<<<< HEAD
       "0                     True                       False                False  \n",
       "1                    False                       False                False  \n",
       "2                    False                        True                False  \n",
       "3                    False                        True                False  \n",
       "4                    False                       False                False  \n",
       "\n",
       "[5 rows x 397 columns]"
      ]
     },
     "execution_count": 18,
=======
       "0                    False                       False                 True  \n",
       "1                    False                        True                False  \n",
       "2                    False                        True                False  \n",
       "3                    False                       False                 True  \n",
       "4                     True                       False                False  \n",
       "\n",
       "[5 rows x 371 columns]"
      ]
     },
     "execution_count": 39,
>>>>>>> d380578008c9fbaa6da175a9186677c464923a56
     "metadata": {},
     "output_type": "execute_result"
    }
   ],
   "source": [
<<<<<<< HEAD
    "train.head()"
   ]
  },
  {
   "cell_type": "code",
   "execution_count": 19,
   "metadata": {},
   "outputs": [],
   "source": [
    "ids = train.cust_id.unique()\n",
    "ids10 = ids[:len(ids)//10]\n",
    "ids1 = ids[:len(ids // 100)]"
=======
    "test.head()"
>>>>>>> d380578008c9fbaa6da175a9186677c464923a56
   ]
  },
  {
   "cell_type": "markdown",
   "metadata": {},
   "source": [
    "# А теперь положим в нормальный файл"
   ]
  },
  {
   "cell_type": "code",
<<<<<<< HEAD
   "execution_count": 20,
   "metadata": {},
   "outputs": [],
   "source": [
    "train.to_feather(\"train.feather\")\n",
    "train = train[train['cust_id'].isin(ids10)]\n",
    "train.to_feather(\"train10.feather\")\n",
    "train = train[train['cust_id'].isin(ids1)]\n",
    "train.to_feather(\"train1.feather\")"
=======
   "execution_count": 40,
   "metadata": {},
   "outputs": [
    {
     "name": "stdout",
     "output_type": "stream",
     "text": [
      "Defaulting to user installation because normal site-packages is not writeable\n",
      "Requirement already satisfied: pyarrow in /home/owner/.local/lib/python3.10/site-packages (15.0.1)\n",
      "Requirement already satisfied: numpy<2,>=1.16.6 in /home/owner/.local/lib/python3.10/site-packages (from pyarrow) (1.26.4)\n",
      "Note: you may need to restart the kernel to use updated packages.\n"
     ]
    }
   ],
   "source": [
    "%pip install pyarrow"
   ]
  },
  {
   "cell_type": "code",
   "execution_count": 43,
   "metadata": {},
   "outputs": [],
   "source": [
    "test.to_feather(\"test.feather\")"
>>>>>>> d380578008c9fbaa6da175a9186677c464923a56
   ]
  }
 ],
 "metadata": {
  "kernelspec": {
   "display_name": "Python 3",
   "language": "python",
   "name": "python3"
  },
  "language_info": {
   "codemirror_mode": {
    "name": "ipython",
    "version": 3
   },
   "file_extension": ".py",
   "mimetype": "text/x-python",
   "name": "python",
   "nbconvert_exporter": "python",
   "pygments_lexer": "ipython3",
   "version": "3.10.12"
  }
 },
 "nbformat": 4,
 "nbformat_minor": 2
}
