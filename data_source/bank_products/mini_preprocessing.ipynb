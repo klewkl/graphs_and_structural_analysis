{
 "cells": [
  {
   "cell_type": "code",
   "execution_count": 1,
   "metadata": {},
   "outputs": [
    {
     "name": "stdout",
     "output_type": "stream",
     "text": [
      "Defaulting to user installation because normal site-packages is not writeable\n",
      "Requirement already satisfied: pandas in /home/owner/.local/lib/python3.10/site-packages (2.2.1)\n",
      "Requirement already satisfied: python-dateutil>=2.8.2 in /home/owner/.local/lib/python3.10/site-packages (from pandas) (2.8.2)\n",
      "Requirement already satisfied: tzdata>=2022.7 in /home/owner/.local/lib/python3.10/site-packages (from pandas) (2023.3)\n",
      "Requirement already satisfied: numpy<2,>=1.22.4 in /home/owner/.local/lib/python3.10/site-packages (from pandas) (1.26.2)\n",
      "Requirement already satisfied: pytz>=2020.1 in /usr/lib/python3/dist-packages (from pandas) (2022.1)\n",
      "Requirement already satisfied: six>=1.5 in /usr/lib/python3/dist-packages (from python-dateutil>=2.8.2->pandas) (1.16.0)\n",
      "Note: you may need to restart the kernel to use updated packages.\n"
     ]
    }
   ],
   "source": [
    "%pip install pandas"
   ]
  },
  {
   "cell_type": "code",
   "execution_count": 2,
   "metadata": {},
   "outputs": [],
   "source": [
    "import pandas as pd"
   ]
  },
  {
   "cell_type": "code",
   "execution_count": 3,
   "metadata": {},
   "outputs": [
    {
     "name": "stdout",
     "output_type": "stream",
     "text": [
      "Defaulting to user installation because normal site-packages is not writeable\n",
      "Requirement already satisfied: dask in /home/owner/.local/lib/python3.10/site-packages (2024.3.0)\n",
      "Requirement already satisfied: dask-expr in /home/owner/.local/lib/python3.10/site-packages (1.0.1)\n",
      "Requirement already satisfied: pyyaml>=5.3.1 in /usr/lib/python3/dist-packages (from dask) (5.4.1)\n",
      "Requirement already satisfied: click>=8.1 in /home/owner/.local/lib/python3.10/site-packages (from dask) (8.1.7)\n",
      "Requirement already satisfied: partd>=1.2.0 in /home/owner/.local/lib/python3.10/site-packages (from dask) (1.4.1)\n",
      "Requirement already satisfied: toolz>=0.10.0 in /home/owner/.local/lib/python3.10/site-packages (from dask) (0.12.1)\n",
      "Requirement already satisfied: cloudpickle>=1.5.0 in /home/owner/.local/lib/python3.10/site-packages (from dask) (3.0.0)\n",
      "Requirement already satisfied: importlib-metadata>=4.13.0 in /home/owner/.local/lib/python3.10/site-packages (from dask) (7.0.2)\n",
      "Requirement already satisfied: fsspec>=2021.09.0 in /home/owner/.local/lib/python3.10/site-packages (from dask) (2023.12.2)\n",
      "Requirement already satisfied: packaging>=20.0 in /home/owner/.local/lib/python3.10/site-packages (from dask) (23.2)\n",
      "Requirement already satisfied: pyarrow>=7.0.0 in /home/owner/.local/lib/python3.10/site-packages (from dask-expr) (15.0.1)\n",
      "Requirement already satisfied: pandas>=2 in /home/owner/.local/lib/python3.10/site-packages (from dask-expr) (2.2.1)\n",
      "Requirement already satisfied: zipp>=0.5 in /usr/lib/python3/dist-packages (from importlib-metadata>=4.13.0->dask) (1.0.0)\n",
      "Requirement already satisfied: pytz>=2020.1 in /usr/lib/python3/dist-packages (from pandas>=2->dask-expr) (2022.1)\n",
      "Requirement already satisfied: python-dateutil>=2.8.2 in /home/owner/.local/lib/python3.10/site-packages (from pandas>=2->dask-expr) (2.8.2)\n",
      "Requirement already satisfied: tzdata>=2022.7 in /home/owner/.local/lib/python3.10/site-packages (from pandas>=2->dask-expr) (2023.3)\n",
      "Requirement already satisfied: numpy<2,>=1.22.4 in /home/owner/.local/lib/python3.10/site-packages (from pandas>=2->dask-expr) (1.26.2)\n",
      "Requirement already satisfied: locket in /home/owner/.local/lib/python3.10/site-packages (from partd>=1.2.0->dask) (1.0.0)\n",
      "Requirement already satisfied: six>=1.5 in /usr/lib/python3/dist-packages (from python-dateutil>=2.8.2->pandas>=2->dask-expr) (1.16.0)\n",
      "Note: you may need to restart the kernel to use updated packages.\n"
     ]
    }
   ],
   "source": [
    "%pip install dask dask-expr"
   ]
  },
  {
   "cell_type": "code",
   "execution_count": 4,
   "metadata": {},
   "outputs": [],
   "source": [
    "import dask.dataframe as dd"
   ]
  },
  {
   "cell_type": "code",
   "execution_count": 6,
   "metadata": {},
   "outputs": [],
   "source": [
    "train = dd.read_csv(\"/home/owner/Documents/DEV/Graphs/Project/graphs_and_structural_analysis/Santander_Product_Recommendation/train_ver2.csv\",\n",
    "                        dtype={'cod_prov': 'float64',\n",
    "                                    'indrel_1mes': 'object',\n",
    "                                    'ult_fec_cli_1t': 'object',\n",
    "                                    'conyuemp': 'object',\n",
    "                                    'age': 'object',\n",
    "                                    'age': 'object',\n",
    "                                    'antiguedad': 'object',\n",
    "                                    'ind_actividad_cliente': 'float64',\n",
    "                                    'ind_nom_pens_ult1': 'float64',\n",
    "                                    'ind_nomina_ult1': 'float64',\n",
    "                                    'ind_nuevo': 'float64',\n",
    "                                    'indrel': 'float64',\n",
    "                                    'tipodom': 'float64'\n",
    "                                },\n",
    "            )"
   ]
  },
  {
   "cell_type": "code",
   "execution_count": 7,
   "metadata": {},
   "outputs": [
    {
     "name": "stderr",
     "output_type": "stream",
     "text": [
      "/home/owner/.local/lib/python3.10/site-packages/dask/dataframe/io/csv.py:195: DtypeWarning: Columns (12,16,23) have mixed types. Specify dtype option on import or set low_memory=False.\n",
      "  df = reader(bio, **kwargs)\n"
     ]
    }
   ],
   "source": [
    "train = train.compute()"
   ]
  },
  {
   "cell_type": "code",
   "execution_count": 8,
   "metadata": {},
   "outputs": [],
   "source": [
    "col_names = {\"ncodpers\":\"cust_id\", \"ind_empleado\":\"emp_index\", \"pais_residencia\":\"residence\",\n",
    "            \"sexo\":\"sex\",\"fecha_alta\":\"first_date\",\"ind_nuevo\":\"new_cust\",\"antiguedad\":\"seniority\",\n",
    "            \"indrel\":\"is_primary\",\"ult_fec_cli_1t\":\"last_primary_date\",\"indrel_1mes\":\"cust_type\",\n",
    "            \"tiprel_1mes\":\"cust_rel_type\",\"indresi\":\"residence_index\",\"indext\":\"foreigner_index\",\n",
    "            \"conyuemp\":\"spouse_index\",\"canal_entrada\":\"channel\",\"cod_prov\":\"province\",\"nomprov\":\"province_name\",\n",
    "            \"ind_actividad_cliente\":\"active_index\",\"renta\":\"income\",\"segmento\":\"segment\"\n",
    "            }\n",
    "\n",
    "train.rename(col_names, axis = 1, inplace = True)"
   ]
  },
  {
   "cell_type": "code",
   "execution_count": 9,
   "metadata": {},
   "outputs": [],
   "source": [
    "train.age = pd.to_numeric(train.age, errors='coerce')\n",
    "train.income = pd.to_numeric(train.income, errors='coerce')\n",
    "train.seniority = pd.to_numeric(train.seniority, errors='coerce')\n",
    "train.first_date = pd.to_datetime(train.first_date, errors = 'coerce')\n",
    "train.cust_type = pd.to_numeric(train.cust_type, errors='coerce')\n",
    "train['fecha_dato'] = pd.to_datetime(train['fecha_dato'])"
   ]
  },
  {
   "cell_type": "code",
   "execution_count": 11,
   "metadata": {},
   "outputs": [
    {
     "data": {
      "text/plain": [
       "fecha_dato           0.000000\n",
       "cust_id              0.000000\n",
       "emp_index            0.002032\n",
       "residence            0.002032\n",
       "sex                  0.002037\n",
       "age                  0.002032\n",
       "first_date           0.002032\n",
       "new_cust             0.002032\n",
       "seniority            0.002032\n",
       "is_primary           0.002032\n",
       "last_primary_date    0.998183\n",
       "cust_type            0.011039\n",
       "cust_rel_type        0.010975\n",
       "residence_index      0.002032\n",
       "foreigner_index      0.002032\n",
       "spouse_index         0.999868\n",
       "channel              0.013638\n",
       "indfall              0.002032\n",
       "tipodom              0.002032\n",
       "province             0.006858\n",
       "province_name        0.006858\n",
       "active_index         0.002032\n",
       "income               0.204756\n",
       "segment              0.013876\n",
       "ind_ahor_fin_ult1    0.000000\n",
       "ind_aval_fin_ult1    0.000000\n",
       "ind_cco_fin_ult1     0.000000\n",
       "ind_cder_fin_ult1    0.000000\n",
       "ind_cno_fin_ult1     0.000000\n",
       "ind_ctju_fin_ult1    0.000000\n",
       "ind_ctma_fin_ult1    0.000000\n",
       "ind_ctop_fin_ult1    0.000000\n",
       "ind_ctpp_fin_ult1    0.000000\n",
       "ind_deco_fin_ult1    0.000000\n",
       "ind_deme_fin_ult1    0.000000\n",
       "ind_dela_fin_ult1    0.000000\n",
       "ind_ecue_fin_ult1    0.000000\n",
       "ind_fond_fin_ult1    0.000000\n",
       "ind_hip_fin_ult1     0.000000\n",
       "ind_plan_fin_ult1    0.000000\n",
       "ind_pres_fin_ult1    0.000000\n",
       "ind_reca_fin_ult1    0.000000\n",
       "ind_tjcr_fin_ult1    0.000000\n",
       "ind_valo_fin_ult1    0.000000\n",
       "ind_viv_fin_ult1     0.000000\n",
       "ind_nomina_ult1      0.001177\n",
       "ind_nom_pens_ult1    0.001177\n",
       "ind_recibo_ult1      0.000000\n",
       "dtype: float64"
      ]
     },
     "execution_count": 11,
     "metadata": {},
     "output_type": "execute_result"
    }
   ],
   "source": [
    "train.isna().sum() / len(train)"
   ]
  },
  {
   "cell_type": "code",
   "execution_count": 12,
   "metadata": {},
   "outputs": [
    {
     "name": "stderr",
     "output_type": "stream",
     "text": [
      "/tmp/ipykernel_5217/9000709.py:10: ChainedAssignmentError: A value is trying to be set on a copy of a DataFrame or Series through chained assignment using an inplace method.\n",
      "When using the Copy-on-Write mode, such inplace method never works to update the original DataFrame or Series, because the intermediate object on which we are setting values always behaves as a copy.\n",
      "\n",
      "For example, when doing 'df[col].method(value, inplace=True)', try using 'df.method({col: value}, inplace=True)' instead, to perform the operation inplace on the original object.\n",
      "\n",
      "\n",
      "  train['income'].fillna(train['income'].mean(), inplace = True)\n"
     ]
    }
   ],
   "source": [
    "# For features with missing values percentage < 10%, use the most common factor level to impute\n",
    "cols = ['emp_index','residence','sex','first_date','new_cust','is_primary',\"cust_type\",\"cust_rel_type\",\n",
    "       \"province\",\"province_name\",\"active_index\",\"channel\",\"segment\"]\n",
    "\n",
    "for i in cols:\n",
    "    train.loc[train[i].isnull(), i] = train[i].value_counts().index[0]\n",
    "    \n",
    "# For features with missing value accounts for over 10%, impute their missing values based on the mean at different dimensions\n",
    "# For Income, impute the missings using the medians of Customer Segment and Province\n",
    "train['income'].fillna(train['income'].mean(), inplace = True)\n"
   ]
  },
  {
   "cell_type": "code",
   "execution_count": 13,
   "metadata": {},
   "outputs": [],
   "source": [
    "# Drop the last primary date and spouse index fields given over 99% missing values\n",
    "train.drop(['last_primary_date','spouse_index'], axis = 1, inplace = True)"
   ]
  },
  {
   "cell_type": "markdown",
   "metadata": {},
   "source": [
    "# Энжиниринг фич"
   ]
  },
  {
   "cell_type": "code",
   "execution_count": 14,
   "metadata": {},
   "outputs": [],
   "source": [
    "# 1) Age group: group the age for lifestages: young, adult, senior, elder\n",
    "age_group = [0, 20, 45, 65, 100]\n",
    "age_labels = ['young', 'adult', 'senior', 'elder']\n",
    "\n",
    "train['age_grouped'] = pd.cut(train.age, bins = age_group, labels = age_labels)"
   ]
  },
  {
   "cell_type": "code",
   "execution_count": 15,
   "metadata": {},
   "outputs": [],
   "source": [
    "# 2) Income Group: group the incomes at Low, Ordinary, Median-high and High classes at (real case may be more complex)\n",
    "import numpy as np\n",
    "df_income_group = [0, np.nanpercentile(train['income'], 25), np.nanpercentile(train['income'], 50), np.nanpercentile(train['income'], 75), np.nanpercentile(train['income'], 100)]\n",
    "income_labels = ['Low','Ordinary','Median-high','High']\n",
    "\n",
    "train['income_grouped'] = pd.cut(train['income'], df_income_group, labels = income_labels)"
   ]
  },
  {
   "cell_type": "code",
   "execution_count": 16,
   "metadata": {},
   "outputs": [],
   "source": [
    "categorical = train.columns[(train.dtypes == \"object\") | (train.dtypes == \"category\")]"
   ]
  },
  {
   "cell_type": "code",
   "execution_count": 17,
   "metadata": {},
   "outputs": [],
   "source": [
    "for column in categorical:\n",
    "    train = pd.concat([train, pd.get_dummies(train[column], prefix=column)], axis=1)\n",
    "    train.drop(columns=column, inplace=True)"
   ]
  },
  {
   "cell_type": "markdown",
   "metadata": {},
   "source": [
    "# A теперь положим в нормальный файл"
   ]
  },
  {
   "cell_type": "code",
   "execution_count": 18,
   "metadata": {},
   "outputs": [
    {
     "name": "stdout",
     "output_type": "stream",
     "text": [
      "Defaulting to user installation because normal site-packages is not writeable\n",
      "Requirement already satisfied: pyarrow in /home/owner/.local/lib/python3.10/site-packages (15.0.1)\n",
      "Requirement already satisfied: numpy<2,>=1.16.6 in /home/owner/.local/lib/python3.10/site-packages (from pyarrow) (1.26.2)\n",
      "Note: you may need to restart the kernel to use updated packages.\n"
     ]
    }
   ],
   "source": [
    "%pip install pyarrow"
   ]
  },
  {
   "cell_type": "code",
   "execution_count": 19,
   "metadata": {},
   "outputs": [],
   "source": [
    "train.to_feather(\"train.feather\")"
   ]
  }
 ],
 "metadata": {
  "kernelspec": {
   "display_name": "Python 3",
   "language": "python",
   "name": "python3"
  },
  "language_info": {
   "codemirror_mode": {
    "name": "ipython",
    "version": 3
   },
   "file_extension": ".py",
   "mimetype": "text/x-python",
   "name": "python",
   "nbconvert_exporter": "python",
   "pygments_lexer": "ipython3",
   "version": "3.10.12"
  }
 },
 "nbformat": 4,
 "nbformat_minor": 2
}
