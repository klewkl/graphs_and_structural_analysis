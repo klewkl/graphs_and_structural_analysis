{
 "cells": [
  {
   "cell_type": "code",
   "execution_count": 1,
   "metadata": {},
   "outputs": [
    {
     "name": "stdout",
     "output_type": "stream",
     "text": [
      "Requirement already satisfied: pandas in /home/owner/Documents/DEV/graphs/graphs_and_structural_analysis/.venv/lib/python3.10/site-packages (2.2.1)\n",
      "Requirement already satisfied: numpy<2,>=1.22.4 in /home/owner/Documents/DEV/graphs/graphs_and_structural_analysis/.venv/lib/python3.10/site-packages (from pandas) (1.25.2)\n",
      "Requirement already satisfied: python-dateutil>=2.8.2 in /home/owner/Documents/DEV/graphs/graphs_and_structural_analysis/.venv/lib/python3.10/site-packages (from pandas) (2.9.0.post0)\n",
      "Requirement already satisfied: pytz>=2020.1 in /home/owner/Documents/DEV/graphs/graphs_and_structural_analysis/.venv/lib/python3.10/site-packages (from pandas) (2024.1)\n",
      "Requirement already satisfied: tzdata>=2022.7 in /home/owner/Documents/DEV/graphs/graphs_and_structural_analysis/.venv/lib/python3.10/site-packages (from pandas) (2024.1)\n",
      "Requirement already satisfied: six>=1.5 in /home/owner/Documents/DEV/graphs/graphs_and_structural_analysis/.venv/lib/python3.10/site-packages (from python-dateutil>=2.8.2->pandas) (1.16.0)\n",
      "Note: you may need to restart the kernel to use updated packages.\n"
     ]
    }
   ],
   "source": [
    "%pip install pandas"
   ]
  },
  {
   "cell_type": "code",
   "execution_count": 2,
   "metadata": {},
   "outputs": [],
   "source": [
    "import pandas as pd"
   ]
  },
  {
   "cell_type": "code",
   "execution_count": 3,
   "metadata": {},
   "outputs": [
    {
     "name": "stdout",
     "output_type": "stream",
     "text": [
      "Requirement already satisfied: dask in /home/owner/Documents/DEV/graphs/graphs_and_structural_analysis/.venv/lib/python3.10/site-packages (2024.3.0)\n",
      "Requirement already satisfied: dask-expr in /home/owner/Documents/DEV/graphs/graphs_and_structural_analysis/.venv/lib/python3.10/site-packages (1.0.2)\n",
      "Requirement already satisfied: click>=8.1 in /home/owner/Documents/DEV/graphs/graphs_and_structural_analysis/.venv/lib/python3.10/site-packages (from dask) (8.1.7)\n",
      "Requirement already satisfied: cloudpickle>=1.5.0 in /home/owner/Documents/DEV/graphs/graphs_and_structural_analysis/.venv/lib/python3.10/site-packages (from dask) (3.0.0)\n",
      "Requirement already satisfied: fsspec>=2021.09.0 in /home/owner/Documents/DEV/graphs/graphs_and_structural_analysis/.venv/lib/python3.10/site-packages (from dask) (2024.2.0)\n",
      "Requirement already satisfied: packaging>=20.0 in /home/owner/Documents/DEV/graphs/graphs_and_structural_analysis/.venv/lib/python3.10/site-packages (from dask) (24.0)\n",
      "Requirement already satisfied: partd>=1.2.0 in /home/owner/Documents/DEV/graphs/graphs_and_structural_analysis/.venv/lib/python3.10/site-packages (from dask) (1.4.1)\n",
      "Requirement already satisfied: pyyaml>=5.3.1 in /home/owner/Documents/DEV/graphs/graphs_and_structural_analysis/.venv/lib/python3.10/site-packages (from dask) (6.0.1)\n",
      "Requirement already satisfied: toolz>=0.10.0 in /home/owner/Documents/DEV/graphs/graphs_and_structural_analysis/.venv/lib/python3.10/site-packages (from dask) (0.12.1)\n",
      "Requirement already satisfied: importlib-metadata>=4.13.0 in /home/owner/Documents/DEV/graphs/graphs_and_structural_analysis/.venv/lib/python3.10/site-packages (from dask) (7.0.2)\n",
      "Requirement already satisfied: pyarrow>=7.0.0 in /home/owner/Documents/DEV/graphs/graphs_and_structural_analysis/.venv/lib/python3.10/site-packages (from dask-expr) (15.0.1)\n",
      "Requirement already satisfied: pandas>=2 in /home/owner/Documents/DEV/graphs/graphs_and_structural_analysis/.venv/lib/python3.10/site-packages (from dask-expr) (2.2.1)\n",
      "Requirement already satisfied: zipp>=0.5 in /home/owner/Documents/DEV/graphs/graphs_and_structural_analysis/.venv/lib/python3.10/site-packages (from importlib-metadata>=4.13.0->dask) (3.18.1)\n",
      "Requirement already satisfied: numpy<2,>=1.22.4 in /home/owner/Documents/DEV/graphs/graphs_and_structural_analysis/.venv/lib/python3.10/site-packages (from pandas>=2->dask-expr) (1.25.2)\n",
      "Requirement already satisfied: python-dateutil>=2.8.2 in /home/owner/Documents/DEV/graphs/graphs_and_structural_analysis/.venv/lib/python3.10/site-packages (from pandas>=2->dask-expr) (2.9.0.post0)\n",
      "Requirement already satisfied: pytz>=2020.1 in /home/owner/Documents/DEV/graphs/graphs_and_structural_analysis/.venv/lib/python3.10/site-packages (from pandas>=2->dask-expr) (2024.1)\n",
      "Requirement already satisfied: tzdata>=2022.7 in /home/owner/Documents/DEV/graphs/graphs_and_structural_analysis/.venv/lib/python3.10/site-packages (from pandas>=2->dask-expr) (2024.1)\n",
      "Requirement already satisfied: locket in /home/owner/Documents/DEV/graphs/graphs_and_structural_analysis/.venv/lib/python3.10/site-packages (from partd>=1.2.0->dask) (1.0.0)\n",
      "Requirement already satisfied: six>=1.5 in /home/owner/Documents/DEV/graphs/graphs_and_structural_analysis/.venv/lib/python3.10/site-packages (from python-dateutil>=2.8.2->pandas>=2->dask-expr) (1.16.0)\n",
      "Note: you may need to restart the kernel to use updated packages.\n"
     ]
    }
   ],
   "source": [
    "%pip install dask dask-expr"
   ]
  },
  {
   "cell_type": "code",
   "execution_count": 4,
   "metadata": {},
   "outputs": [],
   "source": [
    "import dask.dataframe as dd"
   ]
  },
  {
   "cell_type": "code",
   "execution_count": 5,
   "metadata": {},
   "outputs": [],
   "source": [
    "train = dd.read_csv(\"/home/owner/Documents/DEV/graphs/graphs_and_structural_analysis/Santander_Product_Recommendation/train_ver2.csv\",\n",
    "                        dtype={'cod_prov': 'float64',\n",
    "                                    'indrel_1mes': 'object',\n",
    "                                    'ult_fec_cli_1t': 'object',\n",
    "                                    'conyuemp': 'object',\n",
    "                                    'age': 'object',\n",
    "                                    'age': 'object',\n",
    "                                    'antiguedad': 'object',\n",
    "                                    'ind_actividad_cliente': 'float64',\n",
    "                                    'ind_nom_pens_ult1': 'float64',\n",
    "                                    'ind_nomina_ult1': 'float64',\n",
    "                                    'ind_nuevo': 'float64',\n",
    "                                    'indrel': 'float64',\n",
    "                                    'tipodom': 'float64'\n",
    "                                },\n",
    "            )"
   ]
  },
  {
   "cell_type": "code",
   "execution_count": 6,
   "metadata": {},
   "outputs": [
    {
     "name": "stderr",
     "output_type": "stream",
     "text": [
      "/home/owner/Documents/DEV/graphs/graphs_and_structural_analysis/.venv/lib/python3.10/site-packages/dask/dataframe/io/csv.py:195: DtypeWarning: Columns (12,16,23) have mixed types. Specify dtype option on import or set low_memory=False.\n",
      "  df = reader(bio, **kwargs)\n"
     ]
    }
   ],
   "source": [
    "train = train.compute()"
   ]
  },
  {
   "cell_type": "markdown",
   "metadata": {},
   "source": [
    "# Предобработка, которую я перенес"
   ]
  },
  {
   "cell_type": "markdown",
   "metadata": {},
   "source": [
    "# A теперь положим в нормальный файл"
   ]
  },
  {
   "cell_type": "code",
   "execution_count": 7,
   "metadata": {},
   "outputs": [
    {
     "name": "stdout",
     "output_type": "stream",
     "text": [
      "Requirement already satisfied: pyarrow in /home/owner/Documents/DEV/graphs/graphs_and_structural_analysis/.venv/lib/python3.10/site-packages (15.0.1)\n",
      "Requirement already satisfied: numpy<2,>=1.16.6 in /home/owner/Documents/DEV/graphs/graphs_and_structural_analysis/.venv/lib/python3.10/site-packages (from pyarrow) (1.25.2)\n",
      "Note: you may need to restart the kernel to use updated packages.\n"
     ]
    }
   ],
   "source": [
    "%pip install pyarrow"
   ]
  },
  {
   "cell_type": "code",
   "execution_count": 8,
   "metadata": {},
   "outputs": [],
   "source": [
    "train.to_feather(\"train.feather\")"
   ]
  }
 ],
 "metadata": {
  "kernelspec": {
   "display_name": "Python 3",
   "language": "python",
   "name": "python3"
  },
  "language_info": {
   "codemirror_mode": {
    "name": "ipython",
    "version": 3
   },
   "file_extension": ".py",
   "mimetype": "text/x-python",
   "name": "python",
   "nbconvert_exporter": "python",
   "pygments_lexer": "ipython3",
   "version": "3.10.12"
  }
 },
 "nbformat": 4,
 "nbformat_minor": 2
}
